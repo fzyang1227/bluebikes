{
 "cells": [
  {
   "cell_type": "code",
   "execution_count": 1,
   "metadata": {},
   "outputs": [
    {
     "data": {
      "text/plain": [
       "{'avg_duration': 891.0,\n",
       " 'total': 1,\n",
       " 'distance': 3444,\n",
       " 'w5_h18_count': 1,\n",
       " 'anticipated_time': 803}"
      ]
     },
     "execution_count": 1,
     "metadata": {},
     "output_type": "execute_result"
    }
   ],
   "source": [
    "from neo_utils import Neo4jConnection, add_station, add_trip, get_station, to_from_station, count_trips, get_trip\n",
    "from dotenv import load_dotenv\n",
    "import os\n",
    "load_dotenv()\n",
    "URI = os.getenv('NEO4J_URI')\n",
    "USER = os.getenv('NEO4J_USER')\n",
    "PASS = os.getenv('NEO4J_PASS')\n",
    "neo = Neo4jConnection(URI, USER, PASS)\n",
    "\n",
    "thing = get_trip(neo, 'Watermark Seaport - Boston Wharf Rd at Seaport Blvd', 'Murphy Skating Rink - 1880 Day Blvd')\n",
    "neo.close()\n",
    "thing"
   ]
  },
  {
   "cell_type": "code",
   "execution_count": null,
   "metadata": {},
   "outputs": [],
   "source": [
    "thing[0].data()"
   ]
  },
  {
   "cell_type": "code",
   "execution_count": null,
   "metadata": {},
   "outputs": [],
   "source": []
  }
 ],
 "metadata": {
  "kernelspec": {
   "display_name": "ds-class",
   "language": "python",
   "name": "python3"
  },
  "language_info": {
   "codemirror_mode": {
    "name": "ipython",
    "version": 3
   },
   "file_extension": ".py",
   "mimetype": "text/x-python",
   "name": "python",
   "nbconvert_exporter": "python",
   "pygments_lexer": "ipython3",
   "version": "3.10.9"
  },
  "orig_nbformat": 4
 },
 "nbformat": 4,
 "nbformat_minor": 2
}
